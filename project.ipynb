{
 "cells": [
  {
   "cell_type": "code",
   "execution_count": 51,
   "id": "7888112a",
   "metadata": {},
   "outputs": [
    {
     "ename": "SyntaxError",
     "evalue": "invalid syntax (1705115756.py, line 1)",
     "output_type": "error",
     "traceback": [
      "\u001b[1;36m  Cell \u001b[1;32mIn[51], line 1\u001b[1;36m\u001b[0m\n\u001b[1;33m    Самый толстый\u001b[0m\n\u001b[1;37m          ^\u001b[0m\n\u001b[1;31mSyntaxError\u001b[0m\u001b[1;31m:\u001b[0m invalid syntax\n"
     ]
    }
   ],
   "source": [
    "Определить штат с наибольший процент ожирения и вывести его значение"
   ]
  },
  {
   "cell_type": "code",
   "execution_count": 4,
   "id": "30da1d83",
   "metadata": {},
   "outputs": [
    {
     "name": "stdout",
     "output_type": "stream",
     "text": [
      "Louisiana 36.2\n"
     ]
    }
   ],
   "source": [
    "import csv # Reading a CSV file\n",
    "with open ('people.csv', encoding='utf8') as csvfile:\n",
    "    u = csvfile.read().replace(',', '.').split('\\n')[:-1] # Data extraction\n",
    "    procent=[]\n",
    "    name=[]\n",
    "    for i in range(len(u)):\n",
    "        new=u[i].split(';') #We separate each line by the character \";\" using the split(';') function.\n",
    "        procent.append(float(new[1])) #Convert the second element of each row to a number using the float() function and add it to the \"procent\" list.\n",
    "        imax=max(procent) #Use the max() function to find the maximum value in the \"procent\" list and save it to the \"imax\" variable.\n",
    "        name.append(new[0]) #Add the first element of each row to the \"name\" list.\n",
    "        a=procent.index(max(procent)) #Use the index() function to find the index of the maximum value in the \"process\" list and save it to the variable \"a\".\n",
    "        state=name[a] #We get the value of the name by the found index in the \"name\" list and save it to the \"state\" variable.\n",
    "print(state, imax )\n",
    "\n"
   ]
  },
  {
   "cell_type": "code",
   "execution_count": 6,
   "id": "255cd543",
   "metadata": {},
   "outputs": [
    {
     "ename": "SyntaxError",
     "evalue": "invalid syntax (3299129117.py, line 1)",
     "output_type": "error",
     "traceback": [
      "\u001b[1;36m  Cell \u001b[1;32mIn[6], line 1\u001b[1;36m\u001b[0m\n\u001b[1;33m    Вывести штаты, в которых процент ожирения больше чем среднее по всем штатам\u001b[0m\n\u001b[1;37m            ^\u001b[0m\n\u001b[1;31mSyntaxError\u001b[0m\u001b[1;31m:\u001b[0m invalid syntax\n"
     ]
    }
   ],
   "source": [
    "Вывести штаты, в которых процент ожирения больше чем среднее по всем штатам\n"
   ]
  },
  {
   "cell_type": "code",
   "execution_count": 81,
   "id": "7dc2f546",
   "metadata": {},
   "outputs": [
    {
     "name": "stdout",
     "output_type": "stream",
     "text": [
      "29.28653846153846\n",
      "﻿Texas\n",
      "Kentucky\n",
      "Georgia\n",
      "Wisconsin\n",
      "Oregon\n",
      "Tennessee\n",
      "Louisiana\n",
      "Michigan\n",
      "Alaska\n",
      "Nebraska\n",
      "Ohio\n",
      "Illinois\n",
      "Missouri\n",
      "Iowa\n",
      "South Dakota\n",
      "Arkansas\n",
      "Mississippi\n",
      "North Carolina\n",
      "Oklahoma\n",
      "West Virginia\n",
      "Indiana\n",
      "Alabama\n",
      "Puerto Rico\n",
      "South Carolina\n",
      "Maine\n",
      "Delaware\n",
      "Pennsylvania\n",
      "Kansas\n",
      "North Dakota\n"
     ]
    }
   ],
   "source": [
    "import csv\n",
    "with open ('people.csv', encoding='utf8') as csvfile:\n",
    "    u = csvfile.read().replace(',', '.').split('\\n')[:-1] # Data extraction\n",
    "total = 0\n",
    "count = 0\n",
    "for i in u:\n",
    "    parts = i.split(';') #Splits each line into a list of parts using a semicolon as a separator.\n",
    "    value = float(parts[1]) #Extracts a value from the second part of the parts list and converts it to a floating-point number.\n",
    "    total += value\n",
    "    count += 1\n",
    "average = total / count\n",
    "print(float(average))\n",
    "obese_states = []\n",
    "for i in u:\n",
    "    parts = i.split(';')\n",
    "    state = parts[0]\n",
    "    value = float(parts[1])\n",
    "    if value > average:\n",
    "        obese_states.append(state)\n",
    "for state in obese_states:\n",
    "    print(state)"
   ]
  },
  {
   "cell_type": "code",
   "execution_count": 43,
   "id": "2d78a631",
   "metadata": {},
   "outputs": [
    {
     "ename": "SyntaxError",
     "evalue": "invalid syntax (3303465315.py, line 1)",
     "output_type": "error",
     "traceback": [
      "\u001b[1;36m  Cell \u001b[1;32mIn[43], line 1\u001b[1;36m\u001b[0m\n\u001b[1;33m    Найти 5 наименьших процентов ожирения\u001b[0m\n\u001b[1;37m          ^\u001b[0m\n\u001b[1;31mSyntaxError\u001b[0m\u001b[1;31m:\u001b[0m invalid syntax\n"
     ]
    }
   ],
   "source": [
    "Найти 5 наименьших процентов ожирения"
   ]
  },
  {
   "cell_type": "code",
   "execution_count": 45,
   "id": "daa3979e",
   "metadata": {},
   "outputs": [
    {
     "name": "stdout",
     "output_type": "stream",
     "text": [
      "[20.2, 22.1, 22.7, 23.6, 24.2]\n"
     ]
    }
   ],
   "source": [
    "import csv\n",
    "with open ('people.csv', encoding='utf8') as csvfile:\n",
    "    u = csvfile.read().replace(',', '.').split('\\n')[:-1]  # Data extraction\n",
    "obesity_values = []\n",
    "for i in u:\n",
    "    parts = i.split(';') #Splits each line into a list of parts using a semicolon as a separator.\n",
    "    value = float(parts[1])  #Extracts the obesity percentage value from the second part of the parts list and converts it to a floating point number.\n",
    "    obesity_values.append(value)\n",
    "obesity_values.sort() #Sorts the list of obsity_values in ascending order.\n",
    "print(obesity_values[:5]) #displays the first 5 items from the sorted list."
   ]
  },
  {
   "cell_type": "code",
   "execution_count": null,
   "id": "5bf8fd3e",
   "metadata": {},
   "outputs": [],
   "source": [
    "вывести названия 5 штатов с наименьшим ожирением"
   ]
  },
  {
   "cell_type": "code",
   "execution_count": 60,
   "id": "ecc45ce9",
   "metadata": {},
   "outputs": [
    {
     "name": "stdout",
     "output_type": "stream",
     "text": [
      "Colorado\n",
      "District of Columbia\n",
      "Hawaii\n",
      "Montana\n",
      "California\n"
     ]
    }
   ],
   "source": [
    "import csv\n",
    "with open ('people.csv', encoding='utf8') as csvfile:\n",
    "    u = csvfile.read().replace(',', '.').split('\\n')[:-1]  # Data extraction\n",
    "obesity_dict = {} #Initializes an empty obsity_dict dictionary to store the values of the percentage of obesity, where the keys are the names of the states and the values are the values of the percentage of obesity.\n",
    "for item in u:\n",
    "    state, obesity = item.split(';') #Splits each line into a list of parts using a semicolon as a separator.\n",
    "    obesity_dict[state] = float(obesity.replace(',', '.')) #Extracts the name of the state and the value of the obesity percentage from the parts list and stores them in the obsity_dict dictionary. The percentage of obesity is converted to a floating point number.\n",
    "sorted_states = sorted(obesity_dict, key=obesity_dict.get)  #Sorts the keys of the obsity_dict dictionary in ascending order of the percentage of obesity using the sorted() function and the obsity_dict.get key.\n",
    "for state in sorted_states[:5]:\n",
    "    print(state)"
   ]
  },
  {
   "cell_type": "code",
   "execution_count": null,
   "id": "16ef72b2",
   "metadata": {},
   "outputs": [],
   "source": [
    "Код для определения входит ли процент ожирения в штате в пределах нормы, то есть меньше 25 или нет. Если входит выводит 'норма', если нет-'не норма'"
   ]
  },
  {
   "cell_type": "code",
   "execution_count": 63,
   "id": "1c0c5272",
   "metadata": {},
   "outputs": [
    {
     "name": "stdout",
     "output_type": "stream",
     "text": [
      "﻿Texas: не норма\n",
      "California: норма\n",
      "Kentucky: не норма\n",
      "Georgia: не норма\n",
      "Wisconsin: не норма\n",
      "Oregon: не норма\n",
      "Virginia: не норма\n",
      "Tennessee: не норма\n",
      "Louisiana: не норма\n",
      "New York: не норма\n",
      "Michigan: не норма\n",
      "Idaho: не норма\n",
      "Florida: не норма\n",
      "Alaska: не норма\n",
      "Montana: норма\n",
      "Minnesota: не норма\n",
      "Nebraska: не норма\n",
      "Washington: не норма\n",
      "Ohio: не норма\n",
      "Illinois: не норма\n",
      "Missouri: не норма\n",
      "Iowa: не норма\n",
      "South Dakota: не норма\n",
      "Arkansas: не норма\n",
      "Mississippi: не норма\n",
      "Colorado: норма\n",
      "North Carolina: не норма\n",
      "Utah: норма\n",
      "Oklahoma: не норма\n",
      "Wyoming: не норма\n",
      "West Virginia: не норма\n",
      "Indiana: не норма\n",
      "Massachusetts: норма\n",
      "Nevada: не норма\n",
      "Connecticut: не норма\n",
      "District of Columbia: норма\n",
      "Rhode Island: не норма\n",
      "Alabama: не норма\n",
      "Puerto Rico: не норма\n",
      "South Carolina: не норма\n",
      "Maine: не норма\n",
      "Hawaii: норма\n",
      "Arizona: не норма\n",
      "New Mexico: не норма\n",
      "Maryland: не норма\n",
      "Delaware: не норма\n",
      "Pennsylvania: не норма\n",
      "Kansas: не норма\n",
      "Vermont: не норма\n",
      "New Jersey: не норма\n",
      "North Dakota: не норма\n",
      "New Hampshire: не норма\n"
     ]
    }
   ],
   "source": [
    "import  csv\n",
    "with open ('people.csv', encoding='utf8') as csvfile:\n",
    "    u = csvfile.read().replace(',', '.').split('\\n')[:-1] # Data extraction\n",
    "for item in u:\n",
    "    state, obesity = item.split(';') #extract the name of the state and the value of the percentage of obesity from the parts list and save them in the variables state and obesity, respectively.\n",
    "    obesity_level = float(obesity.replace(',', '.')) #Convert the percentage of obesity to a floating-point number and store it in the obsity_level variable.\n",
    "    if obesity_level < 25: #check whether the obsity_level is less than 25.\n",
    "        print(f'{state}: норма')\n",
    "    else:\n",
    "        print(f'{state}: не норма')"
   ]
  },
  {
   "cell_type": "code",
   "execution_count": 73,
   "id": "7a14f445",
   "metadata": {},
   "outputs": [
    {
     "ename": "SyntaxError",
     "evalue": "'return' outside function (994011709.py, line 6)",
     "output_type": "error",
     "traceback": [
      "\u001b[1;36m  Cell \u001b[1;32mIn[73], line 6\u001b[1;36m\u001b[0m\n\u001b[1;33m    return u[state]\u001b[0m\n\u001b[1;37m    ^\u001b[0m\n\u001b[1;31mSyntaxError\u001b[0m\u001b[1;31m:\u001b[0m 'return' outside function\n"
     ]
    }
   ],
   "source": [
    "По названию штата определить, находится ли в процент ожирения в нём в пределах нормы или нет"
   ]
  },
  {
   "cell_type": "code",
   "execution_count": 84,
   "id": "01aa0e94",
   "metadata": {},
   "outputs": [
    {
     "name": "stdout",
     "output_type": "stream",
     "text": [
      "Введите имя штата: North Dakota\n",
      "не норма\n"
     ]
    }
   ],
   "source": [
    "import  csv\n",
    "with open ('people.csv', encoding='utf8') as csvfile:\n",
    "    u = csvfile.read().replace(',', '.').split('\\n')[:-1] # Data extraction\n",
    "state = input(\"Введите имя штата: \") #ask the user for the name of the state\n",
    "for s in u:\n",
    "    u = s.split(';')\n",
    "    if u[0] == state: #check whether the first field (state name) matches the one entered by the user.\n",
    "        obesity_percentage = float(data[1].replace(',', '.')) #convert the percentage of obesity to float by replacing the comma with a dot.\n",
    "        if obesity_percentage < 25: #check whether the percentage of obesity is less than 25\n",
    "            print(\"норма\")\n",
    "        else:\n",
    "            print(\"не норма\")"
   ]
  },
  {
   "cell_type": "code",
   "execution_count": null,
   "id": "1ac9d908",
   "metadata": {},
   "outputs": [],
   "source": []
  }
 ],
 "metadata": {
  "kernelspec": {
   "display_name": "Python 3 (ipykernel)",
   "language": "python",
   "name": "python3"
  },
  "language_info": {
   "codemirror_mode": {
    "name": "ipython",
    "version": 3
   },
   "file_extension": ".py",
   "mimetype": "text/x-python",
   "name": "python",
   "nbconvert_exporter": "python",
   "pygments_lexer": "ipython3",
   "version": "3.11.5"
  }
 },
 "nbformat": 4,
 "nbformat_minor": 5
}
